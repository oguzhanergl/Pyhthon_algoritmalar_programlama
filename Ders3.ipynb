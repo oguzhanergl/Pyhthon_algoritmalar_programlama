{
  "nbformat": 4,
  "nbformat_minor": 0,
  "metadata": {
    "colab": {
      "provenance": []
    },
    "kernelspec": {
      "name": "python3",
      "display_name": "Python 3"
    },
    "language_info": {
      "name": "python"
    }
  },
  "cells": [
    {
      "cell_type": "code",
      "execution_count": 1,
      "metadata": {
        "colab": {
          "base_uri": "https://localhost:8080/"
        },
        "id": "O8dTN3z1XqaR",
        "outputId": "2e5d6f20-5a46-4da8-ec89-053fb9b2682d"
      },
      "outputs": [
        {
          "output_type": "stream",
          "name": "stdout",
          "text": [
            "Merhaba Python Algoritma Sınıfı \n"
          ]
        }
      ],
      "source": [
        "print(\"Merhaba Python Algoritma Sınıfı \")"
      ]
    },
    {
      "cell_type": "code",
      "source": [
        "import sys #import python programlama dilinde kütüphane eklemeye yarayan bir kod blogudur.\n",
        "print(sys.version)"
      ],
      "metadata": {
        "colab": {
          "base_uri": "https://localhost:8080/"
        },
        "id": "K3kCsdnaYgPY",
        "outputId": "8ac180ae-6aee-4974-c37c-04e2cc84e6fd"
      },
      "execution_count": null,
      "outputs": [
        {
          "output_type": "stream",
          "name": "stdout",
          "text": [
            "3.11.11 (main, Dec  4 2024, 08:55:07) [GCC 11.4.0]\n"
          ]
        }
      ]
    },
    {
      "cell_type": "code",
      "source": [
        "from google.colab import drive\n",
        "drive.mount('/content/drive')"
      ],
      "metadata": {
        "colab": {
          "base_uri": "https://localhost:8080/"
        },
        "id": "0UuN1p3qYyAt",
        "outputId": "67726408-a1ed-4b0b-b210-5c821a0c755c"
      },
      "execution_count": 2,
      "outputs": [
        {
          "output_type": "stream",
          "name": "stdout",
          "text": [
            "Mounted at /content/drive\n"
          ]
        }
      ]
    },
    {
      "cell_type": "code",
      "source": [
        "import os\n",
        "os.chdir('/content/drive/My Drive/ALGORITMALAR_MYO')\n"
      ],
      "metadata": {
        "id": "H4zsmyGnY2Vo"
      },
      "execution_count": null,
      "outputs": []
    },
    {
      "cell_type": "code",
      "source": [
        "degisken1 = 10\n",
        "\n",
        "Degisken2 = 20\n",
        "\n",
        "degisken_3 = 30\n",
        "\n",
        "_degisken_4 = 40\n",
        "\n",
        "print(degisken1)\n",
        "print(Degisken2)\n",
        "print(degisken_3)\n",
        "print(_degisken_4)\n",
        "\n"
      ],
      "metadata": {
        "colab": {
          "base_uri": "https://localhost:8080/"
        },
        "id": "ZFg14v8hcfYO",
        "outputId": "5b160a79-a653-4f65-ab78-b2a6fc2d1560"
      },
      "execution_count": 4,
      "outputs": [
        {
          "output_type": "stream",
          "name": "stdout",
          "text": [
            "10\n",
            "20\n",
            "30\n",
            "40\n"
          ]
        }
      ]
    },
    {
      "cell_type": "code",
      "source": [
        "#gecersiz değişken tanımlaması\n",
        "\n",
        "1degisken = 50\n",
        "\n",
        "degisken1-4 = 50"
      ],
      "metadata": {
        "id": "07zi6P1ueqeL"
      },
      "execution_count": null,
      "outputs": []
    },
    {
      "cell_type": "code",
      "source": [
        "x = 5\n",
        "y = \"Merhaba Dünya\"\n",
        "\n",
        "print(x)\n",
        "\n",
        "print(y)"
      ],
      "metadata": {
        "colab": {
          "base_uri": "https://localhost:8080/"
        },
        "id": "WFGm49ALfysc",
        "outputId": "3411719c-f87e-490f-cb98-4cd4bd4d404d"
      },
      "execution_count": 3,
      "outputs": [
        {
          "output_type": "stream",
          "name": "stdout",
          "text": [
            "5\n",
            "Merhaba Dünya\n"
          ]
        }
      ]
    },
    {
      "cell_type": "code",
      "source": [
        "\n",
        "a = 10\n",
        "\n",
        "print(type(a), a)"
      ],
      "metadata": {
        "colab": {
          "base_uri": "https://localhost:8080/"
        },
        "id": "v72dRRqMKm56",
        "outputId": "339484d2-9f63-4ed3-f5f6-237e73e654bd"
      },
      "execution_count": 5,
      "outputs": [
        {
          "output_type": "stream",
          "name": "stdout",
          "text": [
            "<class 'int'> 10\n"
          ]
        }
      ]
    },
    {
      "cell_type": "code",
      "source": [
        "b = 20.5\n",
        "\n",
        "print(type(b), b)"
      ],
      "metadata": {
        "colab": {
          "base_uri": "https://localhost:8080/"
        },
        "id": "GvI4KxP-LhRh",
        "outputId": "b8c2171a-be77-4157-e28b-f2fabddc219a"
      },
      "execution_count": 6,
      "outputs": [
        {
          "output_type": "stream",
          "name": "stdout",
          "text": [
            "<class 'float'> 20.5\n"
          ]
        }
      ]
    },
    {
      "cell_type": "code",
      "source": [
        "# int veri tipinden float'a çevirim işlemi örneği\n",
        "\n",
        "y = 10\n",
        "\n",
        "x = float(y)\n",
        "\n",
        "print(x, type(x))"
      ],
      "metadata": {
        "colab": {
          "base_uri": "https://localhost:8080/"
        },
        "id": "hJyLiXgqLnQF",
        "outputId": "b81b2cdd-1f4e-4619-90ca-6d9d0713d86d"
      },
      "execution_count": 7,
      "outputs": [
        {
          "output_type": "stream",
          "name": "stdout",
          "text": [
            "10.0 <class 'float'>\n"
          ]
        }
      ]
    },
    {
      "cell_type": "code",
      "source": [
        "# float veri tipinden int veri tipine çevirim örneği\n",
        "\n",
        "y = 10.74\n",
        "\n",
        "x = int(y)\n",
        "\n",
        "print(x, type(x))"
      ],
      "metadata": {
        "colab": {
          "base_uri": "https://localhost:8080/"
        },
        "id": "aRexKHPGLryF",
        "outputId": "293bde58-3d25-4868-f02e-ad81b9dd30b6"
      },
      "execution_count": 8,
      "outputs": [
        {
          "output_type": "stream",
          "name": "stdout",
          "text": [
            "10 <class 'int'>\n"
          ]
        }
      ]
    },
    {
      "cell_type": "code",
      "source": [
        "# String - metinsel bilgiyi değişkene atama işlemi\n",
        "\n",
        "c = \"Python Programlama\"\n",
        "\n",
        "print(c, type(c))"
      ],
      "metadata": {
        "colab": {
          "base_uri": "https://localhost:8080/"
        },
        "id": "Y5P8w_ruMQvY",
        "outputId": "3560f0aa-c961-4928-be35-321b81d6aded"
      },
      "execution_count": 9,
      "outputs": [
        {
          "output_type": "stream",
          "name": "stdout",
          "text": [
            "Python Programlama <class 'str'>\n"
          ]
        }
      ]
    },
    {
      "cell_type": "code",
      "source": [
        "# Boolean (True / Doğru - False / Yanlış) Değişken tanımlaması\n",
        "\n",
        "d = True # 1 - Aktif\n",
        "e = False # 0 - Pasif\n",
        "\n",
        "print(d)\n",
        "print(type(e))\n",
        "\n"
      ],
      "metadata": {
        "colab": {
          "base_uri": "https://localhost:8080/"
        },
        "id": "54hq5fVBMr8_",
        "outputId": "7c266034-c19f-473f-8337-881183b5ccce"
      },
      "execution_count": 12,
      "outputs": [
        {
          "output_type": "stream",
          "name": "stdout",
          "text": [
            "True\n",
            "<class 'bool'>\n"
          ]
        }
      ]
    },
    {
      "cell_type": "code",
      "source": [
        "# Demet - Tuple Veri Tipi Tanımlaması\n",
        "\n",
        "demet = (1, 2, 3, 4, 5)\n",
        "\n",
        "print(type(demet), demet)"
      ],
      "metadata": {
        "colab": {
          "base_uri": "https://localhost:8080/"
        },
        "id": "VdlhySy0PbmY",
        "outputId": "dfcf50a2-6641-49de-8c8c-190c4efc6d32"
      },
      "execution_count": 13,
      "outputs": [
        {
          "output_type": "stream",
          "name": "stdout",
          "text": [
            "<class 'tuple'> (1, 2, 3, 4, 5)\n"
          ]
        }
      ]
    },
    {
      "cell_type": "code",
      "source": [
        "# Dictionary - Sözlük Veri Tipi Tanımlaması --> Öğrenci Notlarını Tutan bir sözlük tanımlaması\n",
        "\n",
        "notlar = {\n",
        "    \"Ali\": 85,\n",
        "    \"Veli\": 90,\n",
        "    \"Ayşe\": 78\n",
        "}\n",
        "\n",
        "notlar[\"Fatma\"] = 95 # yeni öğrenci ekleme yöntemi\n",
        "notlar[\"Ali\"] = 88 # mevucttaki öğrencinin notunu günleme işlemi\n",
        "\n",
        "print(notlar)"
      ],
      "metadata": {
        "colab": {
          "base_uri": "https://localhost:8080/"
        },
        "id": "qowOvkvQRT0_",
        "outputId": "fcf263f6-4afd-425a-add5-4c26b8d5c920"
      },
      "execution_count": 18,
      "outputs": [
        {
          "output_type": "stream",
          "name": "stdout",
          "text": [
            "{'Ali': 88, 'Veli': 90, 'Ayşe': 78, 'Fatma': 95}\n"
          ]
        }
      ]
    },
    {
      "cell_type": "code",
      "source": [
        "print(notlar.keys()) # değişkenler alınıyor\n",
        "print(notlar.values()) # değerler alınıyor\n",
        "print(notlar.items()) # değişkenler ve değerler alınıyor"
      ],
      "metadata": {
        "colab": {
          "base_uri": "https://localhost:8080/"
        },
        "id": "z4E91LRVbAro",
        "outputId": "10de7083-2bcb-4b58-c188-c396a93de456"
      },
      "execution_count": 17,
      "outputs": [
        {
          "output_type": "stream",
          "name": "stdout",
          "text": [
            "dict_keys(['Ali', 'Veli', 'Ayşe', 'Fatma'])\n",
            "dict_values([88, 90, 78, 95])\n",
            "dict_items([('Ali', 88), ('Veli', 90), ('Ayşe', 78), ('Fatma', 95)])\n"
          ]
        }
      ]
    },
    {
      "cell_type": "code",
      "source": [
        "# Set Küme veri tipi\n",
        "\n",
        "kodyazanlar = {\"Ahmet\", \"Mehmet\", \"Ayşe\"}\n",
        "kodyazmayanlar = {\"Ayşe\", \"Fatma\", \"Veli\"}\n",
        "\n",
        "ortak = kodyazanlar.intersection(kodyazmayanlar)\n",
        "print(\"Kafasına Göre Takılan Arkadaşlar: \", ortak)\n",
        "\n",
        "kod_yazmayanlar = kodyazmayanlar.difference(kodyazanlar)\n",
        "print(\"Kod çalışması yapmayanlar: \", kod_yazmayanlar)\n",
        "\n",
        "imzalistesi = kodyazanlar.union(kodyazmayanlar)\n",
        "print(\"Sınıf İmza Listesi: \", imzalistesi)\n"
      ],
      "metadata": {
        "colab": {
          "base_uri": "https://localhost:8080/"
        },
        "id": "B3-tmUe2cILH",
        "outputId": "4d4c92e4-79d4-4874-db5a-b9dffbc8c056"
      },
      "execution_count": 16,
      "outputs": [
        {
          "output_type": "stream",
          "name": "stdout",
          "text": [
            "Kafasına Göre Takılan Arkadaşlar:  {'Ayşe'}\n",
            "Kod çalışması yapmayanlar:  {'Fatma', 'Veli'}\n",
            "Sınıf İmza Listesi:  {'Mehmet', 'Ahmet', 'Fatma', 'Veli', 'Ayşe'}\n"
          ]
        }
      ]
    },
    {
      "cell_type": "code",
      "source": [
        "giris = input(\"Bir Sayı Giriniz:\")\n",
        "\n",
        "print(giris)\n"
      ],
      "metadata": {
        "colab": {
          "base_uri": "https://localhost:8080/"
        },
        "id": "vVXTKGX4e80U",
        "outputId": "b68368af-b488-4c39-be1a-d358e73e74ed"
      },
      "execution_count": 19,
      "outputs": [
        {
          "output_type": "stream",
          "name": "stdout",
          "text": [
            "Bir Sayı Giriniz:1\n",
            "1\n"
          ]
        }
      ]
    },
    {
      "cell_type": "code",
      "source": [
        "giris = input(\"Bir Sayı Giriniz:\")\n",
        "try:\n",
        "    numara = float(giris)\n",
        "    print(\"Girilen Sayı: \", numara)\n",
        "except ValueError:\n",
        "    print(\"Hatalı Bilgi Girişi Yaptınız Lütfen Tekrar Deneyiniz!\")\n",
        ""
      ],
      "metadata": {
        "colab": {
          "base_uri": "https://localhost:8080/"
        },
        "id": "iCBMQMBffxRs",
        "outputId": "4c8a4c76-15b7-45cc-d0fa-96affa5ff73d"
      },
      "execution_count": 20,
      "outputs": [
        {
          "output_type": "stream",
          "name": "stdout",
          "text": [
            "Bir Sayı Giriniz:1\n",
            "Girilen Sayı:  1.0\n"
          ]
        }
      ]
    },
    {
      "cell_type": "code",
      "source": [
        "import random\n",
        "\n",
        "rastgele = random.random() # random fonksiyonu bize 0 ile 1 arasında rastgele bir sayı üreten fonksiyondur.\n",
        "\n",
        "print(\"Rastgele Gelen Deger: \", rastgele)\n",
        ""
      ],
      "metadata": {
        "colab": {
          "base_uri": "https://localhost:8080/"
        },
        "id": "9m1H5O0gie3p",
        "outputId": "96c12733-ec7c-4fbe-b4ff-7bae926211d0"
      },
      "execution_count": 21,
      "outputs": [
        {
          "output_type": "stream",
          "name": "stdout",
          "text": [
            "Rastgele Gelen Deger:  0.5823049310033769\n"
          ]
        }
      ]
    },
    {
      "cell_type": "code",
      "source": [
        "import random\n",
        "\n",
        "rastgele2 = random.randint(1, 100) # randint fonksiyonu bize istediğimiz aralıkta rastgele bir sayı üreten fonksiyondur.\n",
        "\n",
        "print(\"Rastgele Gelen Deger: \", rastgele2)\n",
        ""
      ],
      "metadata": {
        "colab": {
          "base_uri": "https://localhost:8080/"
        },
        "id": "wXxkI4DijKql",
        "outputId": "14fdf49b-3724-450c-8424-3a6ce35834b1"
      },
      "execution_count": 22,
      "outputs": [
        {
          "output_type": "stream",
          "name": "stdout",
          "text": [
            "Rastgele Gelen Deger:  85\n"
          ]
        }
      ]
    }
  ]
}